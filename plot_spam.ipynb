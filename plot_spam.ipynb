{
 "cells": [
  {
   "cell_type": "code",
   "execution_count": null,
   "metadata": {},
   "outputs": [],
   "source": [
    "%matplotlib inline"
   ]
  },
  {
   "cell_type": "markdown",
   "metadata": {},
   "source": [
    "\n",
    "# Plotting Classification Forest Error Bars\n",
    "\n",
    "\n",
    "This example demonstrates the calculation of confidence intervals for\n",
    ":class:`sklearn.ensemble.RandomForestClassifier` objects.\n",
    "\n",
    "The data used here are synthetically generated to simulate a data-set in which\n",
    "email messages are labeled as spam based on 20 different features (the default\n",
    "of :func:`sklearn.datasets.make_classification`).\n"
   ]
  },
  {
   "cell_type": "code",
   "execution_count": null,
   "metadata": {},
   "outputs": [],
   "source": [
    "import numpy as np\n",
    "from matplotlib import pyplot as plt\n",
    "from sklearn.model_selection import train_test_split\n",
    "from sklearn.ensemble import RandomForestClassifier\n",
    "import forestci as fci\n",
    "from sklearn.datasets import make_classification\n",
    "\n",
    "spam_X, spam_y = make_classification(5000)\n",
    "\n",
    "# split the datainto training and test set\n",
    "spam_X_train, spam_X_test, spam_y_train, spam_y_test = train_test_split(\n",
    "                                                       spam_X, spam_y,\n",
    "                                                       test_size=0.2)\n",
    "\n",
    "# create RandomForestClassifier\n",
    "n_trees = 500\n",
    "spam_RFC = RandomForestClassifier(max_features=5, n_estimators=n_trees,\n",
    "                                  random_state=42)\n",
    "spam_RFC.fit(spam_X_train, spam_y_train)\n",
    "spam_y_hat = spam_RFC.predict_proba(spam_X_test)\n",
    "\n",
    "idx_spam = np.where(spam_y_test == 1)[0]\n",
    "idx_ham = np.where(spam_y_test == 0)[0]\n",
    "\n",
    "# Histogram predictions without error bars:\n",
    "fig, ax = plt.subplots(1)\n",
    "ax.hist(spam_y_hat[idx_spam, 1], histtype='step', label='spam')\n",
    "ax.hist(spam_y_hat[idx_ham, 1], histtype='step', label='not spam')\n",
    "ax.set_xlabel('Prediction (spam probability)')\n",
    "ax.set_ylabel('Number of observations')\n",
    "plt.legend()\n",
    "\n",
    "# Calculate the variance\n",
    "spam_V_IJ_unbiased = fci.random_forest_error(spam_RFC, spam_X_train,\n",
    "                                             spam_X_test)\n",
    "\n",
    "# Plot forest prediction for emails and standard deviation for estimates\n",
    "# Blue points are spam emails; Green points are non-spam emails\n",
    "fig, ax = plt.subplots(1)\n",
    "ax.scatter(spam_y_hat[idx_spam, 1],\n",
    "           np.sqrt(spam_V_IJ_unbiased[idx_spam]),\n",
    "           label='spam')\n",
    "\n",
    "ax.scatter(spam_y_hat[idx_ham, 1],\n",
    "           np.sqrt(spam_V_IJ_unbiased[idx_ham]),\n",
    "           label='not spam')\n",
    "\n",
    "ax.set_xlabel('Prediction (spam probability)')\n",
    "ax.set_ylabel('Standard deviation')\n",
    "plt.legend()\n",
    "plt.show()"
   ]
  }
 ],
 "metadata": {
  "kernelspec": {
   "display_name": "Python 3",
   "language": "python",
   "name": "python3"
  },
  "language_info": {
   "codemirror_mode": {
    "name": "ipython",
    "version": 3
   },
   "file_extension": ".py",
   "mimetype": "text/x-python",
   "name": "python",
   "nbconvert_exporter": "python",
   "pygments_lexer": "ipython3",
   "version": "3.7.4"
  }
 },
 "nbformat": 4,
 "nbformat_minor": 1
}
